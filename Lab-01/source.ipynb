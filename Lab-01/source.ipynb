{
 "metadata": {
  "language_info": {
   "codemirror_mode": {
    "name": "ipython",
    "version": 3
   },
   "file_extension": ".py",
   "mimetype": "text/x-python",
   "name": "python",
   "nbconvert_exporter": "python",
   "pygments_lexer": "ipython3",
   "version": "3.8.5-final"
  },
  "orig_nbformat": 2,
  "kernelspec": {
   "name": "python3",
   "display_name": "Python 3.8.5 64-bit ('base': conda)",
   "metadata": {
    "interpreter": {
     "hash": "6eb78f420eda1e4e0915c3ccfbb7de754d768762d01c97b30d3319188c938aa4"
    }
   }
  }
 },
 "nbformat": 4,
 "nbformat_minor": 2,
 "cells": [
  {
   "source": [
    "**Lab 01:** Implement and demonstrate the FIND-S algorithm for finding the most specific\n",
    "hypothesis based on a given set of training data samples. Read the training data from a .CSV\n",
    "file.\n",
    "\n",
    "**FIND-S Algorithm:**\n",
    "\n",
    "1. Initialize h to the most specific hypothesis in H\n",
    "2. For each positive training instance x\n",
    "For each attribute constraint ai in h\n",
    "        If the constraint ai is satisfied by x\n",
    "        Then do nothing\n",
    "        Else replace ai in h by the next more general constraint that is satisfied by x\n",
    "3. Output hypothesis h"
   ],
   "cell_type": "markdown",
   "metadata": {}
  },
  {
   "cell_type": "code",
   "execution_count": 18,
   "metadata": {},
   "outputs": [],
   "source": [
    "import csv"
   ]
  },
  {
   "cell_type": "code",
   "execution_count": 19,
   "metadata": {},
   "outputs": [
    {
     "output_type": "stream",
     "name": "stdout",
     "text": [
      "['sky', 'airtemp', 'humidity', 'wind', 'water', 'forcast', 'enjoysport']\n['sunny', 'warm', 'normal', 'strong', 'warm', 'same', 'yes']\n['sunny', 'warm', 'high', 'strong', 'warm', 'same', 'yes']\n['rainy', 'cold', 'high', 'strong', 'warm', 'change', 'no']\n['sunny', 'warm', 'high', 'strong', 'cool', 'change', 'yes']\n"
     ]
    }
   ],
   "source": [
    "data = []\n",
    "\n",
    "# Print data\n",
    "with open('enjoysport.csv', 'r') as csvfile:\n",
    "    for line in csv.reader(csvfile):\n",
    "        data.append(line)\n",
    "        print(line)"
   ]
  },
  {
   "cell_type": "code",
   "execution_count": 20,
   "metadata": {},
   "outputs": [
    {
     "output_type": "stream",
     "name": "stdout",
     "text": [
      "\n The initial hypothesis is : \n['0', '0', '0', '0', '0', '0']\n"
     ]
    }
   ],
   "source": [
    "num_attribute = len(data[0])-1\n",
    "print(\"\\n The initial hypothesis is : \")\n",
    "hypothesis = ['0'] * num_attribute\n",
    "print(hypothesis)"
   ]
  },
  {
   "cell_type": "code",
   "execution_count": 21,
   "metadata": {},
   "outputs": [
    {
     "output_type": "stream",
     "name": "stdout",
     "text": [
      "\n The hypothesis for the training instance 1 is :\n ['0', '0', '0', '0', '0', '0']\n\n The hypothesis for the training instance 2 is :\n ['sunny', 'warm', 'normal', 'strong', 'warm', 'same']\n\n The hypothesis for the training instance 3 is :\n ['sunny', 'warm', '?', 'strong', 'warm', 'same']\n\n The hypothesis for the training instance 4 is :\n ['sunny', 'warm', '?', 'strong', 'warm', 'same']\n\n The hypothesis for the training instance 5 is :\n ['sunny', 'warm', '?', 'strong', '?', '?']\n"
     ]
    }
   ],
   "source": [
    "for i in range(0, len(data)):\n",
    "    if data[i][num_attribute] == 'yes':\n",
    "        for j in range(0, num_attribute):\n",
    "            if hypothesis[j] == '0' or hypothesis[j] == data[i][j]:\n",
    "                hypothesis[j] = data[i][j]\n",
    "            else:\n",
    "                hypothesis[j] = '?'\n",
    "    print(\"\\n The hypothesis for the training instance {} is :\\n\" .format(i+1), hypothesis)"
   ]
  },
  {
   "cell_type": "code",
   "execution_count": 22,
   "metadata": {},
   "outputs": [
    {
     "output_type": "stream",
     "name": "stdout",
     "text": [
      "\n The Maximally specific hypothesis for the training instance is \n['sunny', 'warm', '?', 'strong', '?', '?']\n"
     ]
    }
   ],
   "source": [
    "print(\"\\n The Maximally specific hypothesis for the training instance is \")\n",
    "print(hypothesis)"
   ]
  },
  {
   "cell_type": "code",
   "execution_count": null,
   "metadata": {},
   "outputs": [],
   "source": []
  }
 ]
}